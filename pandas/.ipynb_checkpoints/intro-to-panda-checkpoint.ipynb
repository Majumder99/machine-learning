{
 "cells": [
  {
   "cell_type": "code",
   "execution_count": 1,
   "id": "1219ba2d",
   "metadata": {},
   "outputs": [
    {
     "ename": "ModuleNotFoundError",
     "evalue": "No module named 'panda'",
     "output_type": "error",
     "traceback": [
      "\u001b[1;31m---------------------------------------------------------------------------\u001b[0m",
      "\u001b[1;31mModuleNotFoundError\u001b[0m                       Traceback (most recent call last)",
      "\u001b[1;32m~\\AppData\\Local\\Temp\\ipykernel_9344\\1126761947.py\u001b[0m in \u001b[0;36m<module>\u001b[1;34m\u001b[0m\n\u001b[1;32m----> 1\u001b[1;33m \u001b[1;32mimport\u001b[0m \u001b[0mpanda\u001b[0m \u001b[1;32mas\u001b[0m \u001b[0mpd\u001b[0m\u001b[1;33m\u001b[0m\u001b[1;33m\u001b[0m\u001b[0m\n\u001b[0m",
      "\u001b[1;31mModuleNotFoundError\u001b[0m: No module named 'panda'"
     ]
    }
   ],
   "source": [
    "import panda as pd"
   ]
  },
  {
   "cell_type": "code",
   "execution_count": 3,
   "id": "7d8e4559",
   "metadata": {},
   "outputs": [],
   "source": [
    "import pandas as pd\n",
    "import numpy as np"
   ]
  },
  {
   "cell_type": "code",
   "execution_count": 5,
   "id": "56706d35",
   "metadata": {},
   "outputs": [],
   "source": [
    "dates = pd.date_range('today', periods=6)\n",
    "num_arr = np.random.randn(6,4)\n",
    "columns=['A', 'B', 'C', 'D']"
   ]
  },
  {
   "cell_type": "code",
   "execution_count": 7,
   "id": "dce643e5",
   "metadata": {},
   "outputs": [],
   "source": [
    "df = pd.DataFrame(num_arr, index=dates, columns=columns)"
   ]
  },
  {
   "cell_type": "code",
   "execution_count": 8,
   "id": "f64a32f6",
   "metadata": {},
   "outputs": [
    {
     "data": {
      "text/html": [
       "<div>\n",
       "<style scoped>\n",
       "    .dataframe tbody tr th:only-of-type {\n",
       "        vertical-align: middle;\n",
       "    }\n",
       "\n",
       "    .dataframe tbody tr th {\n",
       "        vertical-align: top;\n",
       "    }\n",
       "\n",
       "    .dataframe thead th {\n",
       "        text-align: right;\n",
       "    }\n",
       "</style>\n",
       "<table border=\"1\" class=\"dataframe\">\n",
       "  <thead>\n",
       "    <tr style=\"text-align: right;\">\n",
       "      <th></th>\n",
       "      <th>A</th>\n",
       "      <th>B</th>\n",
       "      <th>C</th>\n",
       "      <th>D</th>\n",
       "    </tr>\n",
       "  </thead>\n",
       "  <tbody>\n",
       "    <tr>\n",
       "      <th>2023-06-16 18:39:49.382819</th>\n",
       "      <td>0.363076</td>\n",
       "      <td>1.128063</td>\n",
       "      <td>-0.744854</td>\n",
       "      <td>-0.205942</td>\n",
       "    </tr>\n",
       "    <tr>\n",
       "      <th>2023-06-17 18:39:49.382819</th>\n",
       "      <td>-1.058710</td>\n",
       "      <td>-0.941086</td>\n",
       "      <td>-0.025636</td>\n",
       "      <td>0.278643</td>\n",
       "    </tr>\n",
       "    <tr>\n",
       "      <th>2023-06-18 18:39:49.382819</th>\n",
       "      <td>-0.344007</td>\n",
       "      <td>-1.215826</td>\n",
       "      <td>0.582276</td>\n",
       "      <td>0.248662</td>\n",
       "    </tr>\n",
       "    <tr>\n",
       "      <th>2023-06-19 18:39:49.382819</th>\n",
       "      <td>0.207472</td>\n",
       "      <td>-0.079724</td>\n",
       "      <td>-0.149074</td>\n",
       "      <td>1.836185</td>\n",
       "    </tr>\n",
       "    <tr>\n",
       "      <th>2023-06-20 18:39:49.382819</th>\n",
       "      <td>-2.213069</td>\n",
       "      <td>0.841088</td>\n",
       "      <td>2.501322</td>\n",
       "      <td>-0.380688</td>\n",
       "    </tr>\n",
       "    <tr>\n",
       "      <th>2023-06-21 18:39:49.382819</th>\n",
       "      <td>-1.521845</td>\n",
       "      <td>0.892857</td>\n",
       "      <td>1.333975</td>\n",
       "      <td>-1.074761</td>\n",
       "    </tr>\n",
       "  </tbody>\n",
       "</table>\n",
       "</div>"
      ],
      "text/plain": [
       "                                   A         B         C         D\n",
       "2023-06-16 18:39:49.382819  0.363076  1.128063 -0.744854 -0.205942\n",
       "2023-06-17 18:39:49.382819 -1.058710 -0.941086 -0.025636  0.278643\n",
       "2023-06-18 18:39:49.382819 -0.344007 -1.215826  0.582276  0.248662\n",
       "2023-06-19 18:39:49.382819  0.207472 -0.079724 -0.149074  1.836185\n",
       "2023-06-20 18:39:49.382819 -2.213069  0.841088  2.501322 -0.380688\n",
       "2023-06-21 18:39:49.382819 -1.521845  0.892857  1.333975 -1.074761"
      ]
     },
     "execution_count": 8,
     "metadata": {},
     "output_type": "execute_result"
    }
   ],
   "source": [
    "df"
   ]
  },
  {
   "cell_type": "code",
   "execution_count": 10,
   "id": "6ed5def4",
   "metadata": {},
   "outputs": [
    {
     "data": {
      "text/plain": [
       "array([[ 0.3630755 ,  1.12806318, -0.74485402, -0.20594154],\n",
       "       [-1.0587097 , -0.94108634, -0.025636  ,  0.27864322],\n",
       "       [-0.34400663, -1.21582607,  0.58227572,  0.24866243],\n",
       "       [ 0.20747176, -0.07972404, -0.14907406,  1.83618458],\n",
       "       [-2.21306866,  0.84108807,  2.50132213, -0.38068844],\n",
       "       [-1.52184536,  0.89285665,  1.33397458, -1.07476065]])"
      ]
     },
     "execution_count": 10,
     "metadata": {},
     "output_type": "execute_result"
    }
   ],
   "source": [
    "num_arr"
   ]
  },
  {
   "cell_type": "code",
   "execution_count": 12,
   "id": "870f090f",
   "metadata": {},
   "outputs": [
    {
     "data": {
      "text/plain": [
       "A    float64\n",
       "B    float64\n",
       "C    float64\n",
       "D    float64\n",
       "dtype: object"
      ]
     },
     "execution_count": 12,
     "metadata": {},
     "output_type": "execute_result"
    }
   ],
   "source": [
    "df.dtypes"
   ]
  },
  {
   "cell_type": "code",
   "execution_count": 13,
   "id": "01fea251",
   "metadata": {},
   "outputs": [
    {
     "data": {
      "text/html": [
       "<div>\n",
       "<style scoped>\n",
       "    .dataframe tbody tr th:only-of-type {\n",
       "        vertical-align: middle;\n",
       "    }\n",
       "\n",
       "    .dataframe tbody tr th {\n",
       "        vertical-align: top;\n",
       "    }\n",
       "\n",
       "    .dataframe thead th {\n",
       "        text-align: right;\n",
       "    }\n",
       "</style>\n",
       "<table border=\"1\" class=\"dataframe\">\n",
       "  <thead>\n",
       "    <tr style=\"text-align: right;\">\n",
       "      <th></th>\n",
       "      <th>A</th>\n",
       "      <th>B</th>\n",
       "      <th>C</th>\n",
       "      <th>D</th>\n",
       "    </tr>\n",
       "  </thead>\n",
       "  <tbody>\n",
       "    <tr>\n",
       "      <th>2023-06-16 18:39:49.382819</th>\n",
       "      <td>0.363076</td>\n",
       "      <td>1.128063</td>\n",
       "      <td>-0.744854</td>\n",
       "      <td>-0.205942</td>\n",
       "    </tr>\n",
       "    <tr>\n",
       "      <th>2023-06-17 18:39:49.382819</th>\n",
       "      <td>-1.058710</td>\n",
       "      <td>-0.941086</td>\n",
       "      <td>-0.025636</td>\n",
       "      <td>0.278643</td>\n",
       "    </tr>\n",
       "    <tr>\n",
       "      <th>2023-06-18 18:39:49.382819</th>\n",
       "      <td>-0.344007</td>\n",
       "      <td>-1.215826</td>\n",
       "      <td>0.582276</td>\n",
       "      <td>0.248662</td>\n",
       "    </tr>\n",
       "    <tr>\n",
       "      <th>2023-06-19 18:39:49.382819</th>\n",
       "      <td>0.207472</td>\n",
       "      <td>-0.079724</td>\n",
       "      <td>-0.149074</td>\n",
       "      <td>1.836185</td>\n",
       "    </tr>\n",
       "    <tr>\n",
       "      <th>2023-06-20 18:39:49.382819</th>\n",
       "      <td>-2.213069</td>\n",
       "      <td>0.841088</td>\n",
       "      <td>2.501322</td>\n",
       "      <td>-0.380688</td>\n",
       "    </tr>\n",
       "  </tbody>\n",
       "</table>\n",
       "</div>"
      ],
      "text/plain": [
       "                                   A         B         C         D\n",
       "2023-06-16 18:39:49.382819  0.363076  1.128063 -0.744854 -0.205942\n",
       "2023-06-17 18:39:49.382819 -1.058710 -0.941086 -0.025636  0.278643\n",
       "2023-06-18 18:39:49.382819 -0.344007 -1.215826  0.582276  0.248662\n",
       "2023-06-19 18:39:49.382819  0.207472 -0.079724 -0.149074  1.836185\n",
       "2023-06-20 18:39:49.382819 -2.213069  0.841088  2.501322 -0.380688"
      ]
     },
     "execution_count": 13,
     "metadata": {},
     "output_type": "execute_result"
    }
   ],
   "source": [
    "df.head()"
   ]
  },
  {
   "cell_type": "code",
   "execution_count": 14,
   "id": "70a81472",
   "metadata": {},
   "outputs": [
    {
     "data": {
      "text/html": [
       "<div>\n",
       "<style scoped>\n",
       "    .dataframe tbody tr th:only-of-type {\n",
       "        vertical-align: middle;\n",
       "    }\n",
       "\n",
       "    .dataframe tbody tr th {\n",
       "        vertical-align: top;\n",
       "    }\n",
       "\n",
       "    .dataframe thead th {\n",
       "        text-align: right;\n",
       "    }\n",
       "</style>\n",
       "<table border=\"1\" class=\"dataframe\">\n",
       "  <thead>\n",
       "    <tr style=\"text-align: right;\">\n",
       "      <th></th>\n",
       "      <th>A</th>\n",
       "      <th>B</th>\n",
       "      <th>C</th>\n",
       "      <th>D</th>\n",
       "    </tr>\n",
       "  </thead>\n",
       "  <tbody>\n",
       "    <tr>\n",
       "      <th>2023-06-17 18:39:49.382819</th>\n",
       "      <td>-1.058710</td>\n",
       "      <td>-0.941086</td>\n",
       "      <td>-0.025636</td>\n",
       "      <td>0.278643</td>\n",
       "    </tr>\n",
       "    <tr>\n",
       "      <th>2023-06-18 18:39:49.382819</th>\n",
       "      <td>-0.344007</td>\n",
       "      <td>-1.215826</td>\n",
       "      <td>0.582276</td>\n",
       "      <td>0.248662</td>\n",
       "    </tr>\n",
       "    <tr>\n",
       "      <th>2023-06-19 18:39:49.382819</th>\n",
       "      <td>0.207472</td>\n",
       "      <td>-0.079724</td>\n",
       "      <td>-0.149074</td>\n",
       "      <td>1.836185</td>\n",
       "    </tr>\n",
       "    <tr>\n",
       "      <th>2023-06-20 18:39:49.382819</th>\n",
       "      <td>-2.213069</td>\n",
       "      <td>0.841088</td>\n",
       "      <td>2.501322</td>\n",
       "      <td>-0.380688</td>\n",
       "    </tr>\n",
       "    <tr>\n",
       "      <th>2023-06-21 18:39:49.382819</th>\n",
       "      <td>-1.521845</td>\n",
       "      <td>0.892857</td>\n",
       "      <td>1.333975</td>\n",
       "      <td>-1.074761</td>\n",
       "    </tr>\n",
       "  </tbody>\n",
       "</table>\n",
       "</div>"
      ],
      "text/plain": [
       "                                   A         B         C         D\n",
       "2023-06-17 18:39:49.382819 -1.058710 -0.941086 -0.025636  0.278643\n",
       "2023-06-18 18:39:49.382819 -0.344007 -1.215826  0.582276  0.248662\n",
       "2023-06-19 18:39:49.382819  0.207472 -0.079724 -0.149074  1.836185\n",
       "2023-06-20 18:39:49.382819 -2.213069  0.841088  2.501322 -0.380688\n",
       "2023-06-21 18:39:49.382819 -1.521845  0.892857  1.333975 -1.074761"
      ]
     },
     "execution_count": 14,
     "metadata": {},
     "output_type": "execute_result"
    }
   ],
   "source": [
    "\n",
    "\n",
    "df.tail()"
   ]
  },
  {
   "cell_type": "code",
   "execution_count": 15,
   "id": "ca46d479",
   "metadata": {},
   "outputs": [
    {
     "data": {
      "text/plain": [
       "Index(['A', 'B', 'C', 'D'], dtype='object')"
      ]
     },
     "execution_count": 15,
     "metadata": {},
     "output_type": "execute_result"
    }
   ],
   "source": [
    "df.columns"
   ]
  },
  {
   "cell_type": "code",
   "execution_count": 16,
   "id": "589204b4",
   "metadata": {},
   "outputs": [
    {
     "data": {
      "text/plain": [
       "DatetimeIndex(['2023-06-16 18:39:49.382819', '2023-06-17 18:39:49.382819',\n",
       "               '2023-06-18 18:39:49.382819', '2023-06-19 18:39:49.382819',\n",
       "               '2023-06-20 18:39:49.382819', '2023-06-21 18:39:49.382819'],\n",
       "              dtype='datetime64[ns]', freq='D')"
      ]
     },
     "execution_count": 16,
     "metadata": {},
     "output_type": "execute_result"
    }
   ],
   "source": [
    "df.index"
   ]
  },
  {
   "cell_type": "code",
   "execution_count": 17,
   "id": "47a6991e",
   "metadata": {},
   "outputs": [
    {
     "data": {
      "text/plain": [
       "array([[ 0.3630755 ,  1.12806318, -0.74485402, -0.20594154],\n",
       "       [-1.0587097 , -0.94108634, -0.025636  ,  0.27864322],\n",
       "       [-0.34400663, -1.21582607,  0.58227572,  0.24866243],\n",
       "       [ 0.20747176, -0.07972404, -0.14907406,  1.83618458],\n",
       "       [-2.21306866,  0.84108807,  2.50132213, -0.38068844],\n",
       "       [-1.52184536,  0.89285665,  1.33397458, -1.07476065]])"
      ]
     },
     "execution_count": 17,
     "metadata": {},
     "output_type": "execute_result"
    }
   ],
   "source": [
    "df.values"
   ]
  },
  {
   "cell_type": "code",
   "execution_count": 18,
   "id": "b4fea1b4",
   "metadata": {},
   "outputs": [
    {
     "data": {
      "text/plain": [
       "A   -0.761181\n",
       "B    0.104229\n",
       "C    0.583001\n",
       "D    0.117017\n",
       "dtype: float64"
      ]
     },
     "execution_count": 18,
     "metadata": {},
     "output_type": "execute_result"
    }
   ],
   "source": [
    "df.mean()"
   ]
  },
  {
   "cell_type": "code",
   "execution_count": 19,
   "id": "be74653e",
   "metadata": {},
   "outputs": [],
   "source": [
    "df1 = pd.read_csv('data.csv')"
   ]
  },
  {
   "cell_type": "code",
   "execution_count": 20,
   "id": "4e2ac03a",
   "metadata": {},
   "outputs": [
    {
     "data": {
      "text/html": [
       "<div>\n",
       "<style scoped>\n",
       "    .dataframe tbody tr th:only-of-type {\n",
       "        vertical-align: middle;\n",
       "    }\n",
       "\n",
       "    .dataframe tbody tr th {\n",
       "        vertical-align: top;\n",
       "    }\n",
       "\n",
       "    .dataframe thead th {\n",
       "        text-align: right;\n",
       "    }\n",
       "</style>\n",
       "<table border=\"1\" class=\"dataframe\">\n",
       "  <thead>\n",
       "    <tr style=\"text-align: right;\">\n",
       "      <th></th>\n",
       "      <th>filename</th>\n",
       "      <th>tempo</th>\n",
       "      <th>beats</th>\n",
       "      <th>chroma_stft</th>\n",
       "      <th>rmse</th>\n",
       "      <th>spectral_centroid</th>\n",
       "      <th>spectral_bandwidth</th>\n",
       "      <th>rolloff</th>\n",
       "      <th>zero_crossing_rate</th>\n",
       "      <th>mfcc1</th>\n",
       "      <th>...</th>\n",
       "      <th>mfcc12</th>\n",
       "      <th>mfcc13</th>\n",
       "      <th>mfcc14</th>\n",
       "      <th>mfcc15</th>\n",
       "      <th>mfcc16</th>\n",
       "      <th>mfcc17</th>\n",
       "      <th>mfcc18</th>\n",
       "      <th>mfcc19</th>\n",
       "      <th>mfcc20</th>\n",
       "      <th>label</th>\n",
       "    </tr>\n",
       "  </thead>\n",
       "  <tbody>\n",
       "    <tr>\n",
       "      <th>0</th>\n",
       "      <td>blues.00081.au</td>\n",
       "      <td>103.359375</td>\n",
       "      <td>50</td>\n",
       "      <td>0.380260</td>\n",
       "      <td>0.248262</td>\n",
       "      <td>2116.942959</td>\n",
       "      <td>1956.611056</td>\n",
       "      <td>4196.107960</td>\n",
       "      <td>0.127272</td>\n",
       "      <td>-26.929785</td>\n",
       "      <td>...</td>\n",
       "      <td>14.336612</td>\n",
       "      <td>-13.821769</td>\n",
       "      <td>7.562789</td>\n",
       "      <td>-6.181372</td>\n",
       "      <td>0.330165</td>\n",
       "      <td>-6.829571</td>\n",
       "      <td>0.965922</td>\n",
       "      <td>-7.570825</td>\n",
       "      <td>2.918987</td>\n",
       "      <td>blues</td>\n",
       "    </tr>\n",
       "    <tr>\n",
       "      <th>1</th>\n",
       "      <td>blues.00022.au</td>\n",
       "      <td>95.703125</td>\n",
       "      <td>44</td>\n",
       "      <td>0.306451</td>\n",
       "      <td>0.113475</td>\n",
       "      <td>1156.070496</td>\n",
       "      <td>1497.668176</td>\n",
       "      <td>2170.053545</td>\n",
       "      <td>0.058613</td>\n",
       "      <td>-233.860772</td>\n",
       "      <td>...</td>\n",
       "      <td>-2.250578</td>\n",
       "      <td>3.959198</td>\n",
       "      <td>5.322555</td>\n",
       "      <td>0.812028</td>\n",
       "      <td>-1.107202</td>\n",
       "      <td>-4.556555</td>\n",
       "      <td>-2.436490</td>\n",
       "      <td>3.316913</td>\n",
       "      <td>-0.608485</td>\n",
       "      <td>blues</td>\n",
       "    </tr>\n",
       "    <tr>\n",
       "      <th>2</th>\n",
       "      <td>blues.00031.au</td>\n",
       "      <td>151.999081</td>\n",
       "      <td>75</td>\n",
       "      <td>0.253487</td>\n",
       "      <td>0.151571</td>\n",
       "      <td>1331.073970</td>\n",
       "      <td>1973.643437</td>\n",
       "      <td>2900.174130</td>\n",
       "      <td>0.042967</td>\n",
       "      <td>-221.802549</td>\n",
       "      <td>...</td>\n",
       "      <td>-13.037723</td>\n",
       "      <td>-12.652228</td>\n",
       "      <td>-1.821905</td>\n",
       "      <td>-7.260097</td>\n",
       "      <td>-6.660252</td>\n",
       "      <td>-14.682694</td>\n",
       "      <td>-11.719264</td>\n",
       "      <td>-11.025216</td>\n",
       "      <td>-13.387260</td>\n",
       "      <td>blues</td>\n",
       "    </tr>\n",
       "    <tr>\n",
       "      <th>3</th>\n",
       "      <td>blues.00012.au</td>\n",
       "      <td>184.570312</td>\n",
       "      <td>91</td>\n",
       "      <td>0.269320</td>\n",
       "      <td>0.119072</td>\n",
       "      <td>1361.045467</td>\n",
       "      <td>1567.804596</td>\n",
       "      <td>2739.625101</td>\n",
       "      <td>0.069124</td>\n",
       "      <td>-207.208080</td>\n",
       "      <td>...</td>\n",
       "      <td>-0.613248</td>\n",
       "      <td>0.384877</td>\n",
       "      <td>2.605128</td>\n",
       "      <td>-5.188924</td>\n",
       "      <td>-9.527455</td>\n",
       "      <td>-9.244394</td>\n",
       "      <td>-2.848274</td>\n",
       "      <td>-1.418707</td>\n",
       "      <td>-5.932607</td>\n",
       "      <td>blues</td>\n",
       "    </tr>\n",
       "    <tr>\n",
       "      <th>4</th>\n",
       "      <td>blues.00056.au</td>\n",
       "      <td>161.499023</td>\n",
       "      <td>74</td>\n",
       "      <td>0.391059</td>\n",
       "      <td>0.137728</td>\n",
       "      <td>1811.076084</td>\n",
       "      <td>2052.332563</td>\n",
       "      <td>3927.809582</td>\n",
       "      <td>0.075480</td>\n",
       "      <td>-145.434568</td>\n",
       "      <td>...</td>\n",
       "      <td>7.457218</td>\n",
       "      <td>-10.470444</td>\n",
       "      <td>-2.360483</td>\n",
       "      <td>-6.783623</td>\n",
       "      <td>2.671134</td>\n",
       "      <td>-4.760879</td>\n",
       "      <td>-0.949005</td>\n",
       "      <td>0.024832</td>\n",
       "      <td>-2.005315</td>\n",
       "      <td>blues</td>\n",
       "    </tr>\n",
       "  </tbody>\n",
       "</table>\n",
       "<p>5 rows × 30 columns</p>\n",
       "</div>"
      ],
      "text/plain": [
       "         filename       tempo  beats  chroma_stft      rmse  \\\n",
       "0  blues.00081.au  103.359375     50     0.380260  0.248262   \n",
       "1  blues.00022.au   95.703125     44     0.306451  0.113475   \n",
       "2  blues.00031.au  151.999081     75     0.253487  0.151571   \n",
       "3  blues.00012.au  184.570312     91     0.269320  0.119072   \n",
       "4  blues.00056.au  161.499023     74     0.391059  0.137728   \n",
       "\n",
       "   spectral_centroid  spectral_bandwidth      rolloff  zero_crossing_rate  \\\n",
       "0        2116.942959         1956.611056  4196.107960            0.127272   \n",
       "1        1156.070496         1497.668176  2170.053545            0.058613   \n",
       "2        1331.073970         1973.643437  2900.174130            0.042967   \n",
       "3        1361.045467         1567.804596  2739.625101            0.069124   \n",
       "4        1811.076084         2052.332563  3927.809582            0.075480   \n",
       "\n",
       "        mfcc1  ...     mfcc12     mfcc13    mfcc14    mfcc15    mfcc16  \\\n",
       "0  -26.929785  ...  14.336612 -13.821769  7.562789 -6.181372  0.330165   \n",
       "1 -233.860772  ...  -2.250578   3.959198  5.322555  0.812028 -1.107202   \n",
       "2 -221.802549  ... -13.037723 -12.652228 -1.821905 -7.260097 -6.660252   \n",
       "3 -207.208080  ...  -0.613248   0.384877  2.605128 -5.188924 -9.527455   \n",
       "4 -145.434568  ...   7.457218 -10.470444 -2.360483 -6.783623  2.671134   \n",
       "\n",
       "      mfcc17     mfcc18     mfcc19     mfcc20  label  \n",
       "0  -6.829571   0.965922  -7.570825   2.918987  blues  \n",
       "1  -4.556555  -2.436490   3.316913  -0.608485  blues  \n",
       "2 -14.682694 -11.719264 -11.025216 -13.387260  blues  \n",
       "3  -9.244394  -2.848274  -1.418707  -5.932607  blues  \n",
       "4  -4.760879  -0.949005   0.024832  -2.005315  blues  \n",
       "\n",
       "[5 rows x 30 columns]"
      ]
     },
     "execution_count": 20,
     "metadata": {},
     "output_type": "execute_result"
    }
   ],
   "source": [
    "df1.head()"
   ]
  },
  {
   "cell_type": "code",
   "execution_count": null,
   "id": "53b3853d",
   "metadata": {},
   "outputs": [],
   "source": []
  }
 ],
 "metadata": {
  "kernelspec": {
   "display_name": "Python 3 (ipykernel)",
   "language": "python",
   "name": "python3"
  },
  "language_info": {
   "codemirror_mode": {
    "name": "ipython",
    "version": 3
   },
   "file_extension": ".py",
   "mimetype": "text/x-python",
   "name": "python",
   "nbconvert_exporter": "python",
   "pygments_lexer": "ipython3",
   "version": "3.9.13"
  }
 },
 "nbformat": 4,
 "nbformat_minor": 5
}
